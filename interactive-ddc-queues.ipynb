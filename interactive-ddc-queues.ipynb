{
 "cells": [
  {
   "cell_type": "markdown",
   "id": "01a45e8a-2206-461b-80c5-7970c3b5f7fb",
   "metadata": {},
   "source": [
    "# Interactive simple D/D/c queues"
   ]
  },
  {
   "cell_type": "code",
   "execution_count": 43,
   "id": "ed687dbe-6924-452b-b7a3-1a11ed7e8ccb",
   "metadata": {},
   "outputs": [
    {
     "data": {
      "application/vnd.jupyter.widget-view+json": {
       "model_id": "fc4440e928b14de8b2766ba856fbbaef",
       "version_major": 2,
       "version_minor": 0
      },
      "text/plain": [
       "interactive(children=(IntSlider(value=250, description='arrival_interval', max=500), IntSlider(value=250, desc…"
      ]
     },
     "execution_count": 43,
     "metadata": {},
     "output_type": "execute_result"
    }
   ],
   "source": [
    "%matplotlib inline\n",
    "from ipywidgets import interactive\n",
    "from IPython.display import display\n",
    "import matplotlib.pyplot as plt\n",
    "import numpy as np\n",
    "from src.queue import Queue, timestamps_to_intervals\n",
    "\n",
    "SAMPLE_SIZE = 10000\n",
    "ARRIVAL_RATE = 1\n",
    "EXECUTION_RATE = 2\n",
    "EXECUTORS = 2\n",
    "\n",
    "def display_queue_metrics(arrival_interval, execution_interval, executrs):\n",
    "    inter_arrival_time = np.full(shape=SAMPLE_SIZE, dtype=int, fill_value=arrival_interval)\n",
    "\n",
    "    fig, ((wait_times, queue_length), (departure_interval, utilization)) = plt.subplots(2, 2)\n",
    "\n",
    "    queue = Queue(inter_arrival_time, np.full(shape=SAMPLE_SIZE, dtype=int, fill_value=execution_interval), executors=executrs)\n",
    "    queue.process()\n",
    "    \n",
    "    wait_times.set_title(\"Wait times\")\n",
    "    wait_times.set(xlabel='Time', ylabel='Duration')\n",
    "    wait_times.plot(queue.wait_times, alpha=0.5)\n",
    "    \n",
    "    queue_length.set_title(\"Queue length over time\")\n",
    "    queue_length.set(xlabel='Time', ylabel='Length')\n",
    "    queue_length.scatter(*zip(*queue.length_with_timestamps), alpha=0.5)\n",
    "    \n",
    "    departure_interval.set_title(\"Departure Intervals\")\n",
    "    departure_interval.set(xlabel='Index', ylabel='Duration')\n",
    "    departure_interval.plot(timestamps_to_intervals(queue.departure_times), alpha=0.5)\n",
    "\n",
    "    utilization.set_title(\"Utilization\")\n",
    "    utilization.set(xlabel='Index', ylabel='Utilization (%)')\n",
    "    # plot lines \n",
    "    for i in range(executrs):\n",
    "        utilization.plot(queue.utilization(i) * 100, label = f'executor {i}') \n",
    "    \n",
    "    fig.tight_layout()\n",
    "    plt.show()\n",
    "\n",
    "interactive_plot = interactive(\n",
    "    display_queue_metrics,\n",
    "    arrival_interval=(0, 500),\n",
    "    execution_interval=(0, 500),\n",
    "    executrs=(1, 4)\n",
    ")\n",
    "# output = interactive_plot.children[-1]\n",
    "# output.layout.width = '850px'\n",
    "plt.rcParams[\"figure.figsize\"] = (12, 6) # (w, h)\n",
    "interactive_plot\n"
   ]
  },
  {
   "cell_type": "code",
   "execution_count": null,
   "id": "15c94d85-6ec2-4ce1-b7cf-dbd6a1f0fbed",
   "metadata": {},
   "outputs": [],
   "source": []
  }
 ],
 "metadata": {
  "kernelspec": {
   "display_name": "Python 3 (ipykernel)",
   "language": "python",
   "name": "python3"
  },
  "language_info": {
   "codemirror_mode": {
    "name": "ipython",
    "version": 3
   },
   "file_extension": ".py",
   "mimetype": "text/x-python",
   "name": "python",
   "nbconvert_exporter": "python",
   "pygments_lexer": "ipython3",
   "version": "3.12.1"
  }
 },
 "nbformat": 4,
 "nbformat_minor": 5
}
